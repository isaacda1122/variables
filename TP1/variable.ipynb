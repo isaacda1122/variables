{
  "nbformat": 4,
  "nbformat_minor": 0,
  "metadata": {
    "colab": {
      "provenance": [],
      "authorship_tag": "ABX9TyOoZmLJT9JiKm/qLsHr5f6E",
      "include_colab_link": true
    },
    "kernelspec": {
      "name": "python3",
      "display_name": "Python 3"
    },
    "language_info": {
      "name": "python"
    }
  },
  "cells": [
    {
      "cell_type": "markdown",
      "metadata": {
        "id": "view-in-github",
        "colab_type": "text"
      },
      "source": [
        "<a href=\"https://colab.research.google.com/github/isaacda1122/variables/blob/main/TP1/variable.ipynb\" target=\"_parent\"><img src=\"https://colab.research.google.com/assets/colab-badge.svg\" alt=\"Open In Colab\"/></a>"
      ]
    },
    {
      "cell_type": "code",
      "execution_count": null,
      "metadata": {
        "id": "0n6GJWwkofPI"
      },
      "outputs": [],
      "source": [
        "EJERCICIO 1: apliquemos tipos de variables"
      ]
    },
    {
      "cell_type": "code",
      "source": [
        "edad=19  # declaramos la variable edad y asugnamos un valor\n",
        "edad\n",
        "print(edad)\n",
        "print(\"si edad ecbjuuomooo´{\"´:*ñ.´P.p:¿\n",
        "      .´\n",
        "      ´\n",
        "      .p,p}{\n",
        "          -\n",
        "      }\n",
        "ñ+\n",
        "ll{k+pl{+pñ-\n",
        "        }-+p+}o´8+¿06m¿¿k¿{       }     ´.< : pd   edad)\n",
        "print(\"si edad es\")"
      ],
      "metadata": {
        "id": "GvPyYn3Jq1GD",
        "colab": {
          "base_uri": "https://localhost:8080/"
        },
        "outputId": "e443a18f-ba85-44fa-e4a8-152aebbdaf45"
      },
      "execution_count": null,
      "outputs": [
        {
          "output_type": "stream",
          "name": "stdout",
          "text": [
            "19\n"
          ]
        }
      ]
    },
    {
      "cell_type": "code",
      "source": [
        "type(edad)   #type devuelve el tipo de la variable "
      ],
      "metadata": {
        "colab": {
          "base_uri": "https://localhost:8080/"
        },
        "id": "aPBqytg2UJQb",
        "outputId": "7662dcb3-1915-4b11-b93d-aa440b915325"
      },
      "execution_count": null,
      "outputs": [
        {
          "output_type": "execute_result",
          "data": {
            "text/plain": [
              "int"
            ]
          },
          "metadata": {},
          "execution_count": 3
        }
      ]
    },
    {
      "cell_type": "code",
      "source": [
        "saludo=\"hola\"\n",
        "type(saludo)"
      ],
      "metadata": {
        "colab": {
          "base_uri": "https://localhost:8080/"
        },
        "id": "vmW4dyLIU12c",
        "outputId": "a8d3492b-0853-447b-a06f-125d3e4283b2"
      },
      "execution_count": null,
      "outputs": [
        {
          "output_type": "execute_result",
          "data": {
            "text/plain": [
              "str"
            ]
          },
          "metadata": {},
          "execution_count": 6
        }
      ]
    },
    {
      "cell_type": "code",
      "source": [
        "estado=True\n",
        "type(estado)"
      ],
      "metadata": {
        "colab": {
          "base_uri": "https://localhost:8080/"
        },
        "id": "q06uaBxfVxv8",
        "outputId": "2c0480a5-2dbf-48b8-fc9b-21286d407d37"
      },
      "execution_count": null,
      "outputs": [
        {
          "output_type": "execute_result",
          "data": {
            "text/plain": [
              "bool"
            ]
          },
          "metadata": {},
          "execution_count": 7
        }
      ]
    },
    {
      "cell_type": "code",
      "source": [
        "from typing import Type\n",
        "peso=50.2\n",
        "type(peso)"
      ],
      "metadata": {
        "colab": {
          "base_uri": "https://localhost:8080/"
        },
        "id": "xZucVRPVWx2U",
        "outputId": "adcd8e44-f765-4820-ffcb-dd96e49ff995"
      },
      "execution_count": null,
      "outputs": [
        {
          "output_type": "execute_result",
          "data": {
            "text/plain": [
              "float"
            ]
          },
          "metadata": {},
          "execution_count": 8
        }
      ]
    },
    {
      "cell_type": "code",
      "source": [
        "#crear el codigo para notificar dos numeros\n",
        "\n",
        "numero1=45.8 # declaro variable y asigno valor flotante\n",
        "numero2=78   # declaro variable y asigno valor entero \n",
        "\n",
        "solucion=numero1*numero2  # declaro la variable solucion para guardar el resultado\n",
        "\n",
        "print(solucion)\n",
        "print(f\"el producto de los resultados es {solucion}\")\n",
        "print(numero1*numero2)"
      ],
      "metadata": {
        "colab": {
          "base_uri": "https://localhost:8080/"
        },
        "id": "Uec_i44eXX1d",
        "outputId": "0549ae85-2ca3-4e2a-e1cc-717cc2809878"
      },
      "execution_count": null,
      "outputs": [
        {
          "output_type": "stream",
          "name": "stdout",
          "text": [
            "3572.3999999999996\n",
            "el producto de los resultados es 3572.3999999999996\n",
            "3572.3999999999996\n"
          ]
        }
      ]
    },
    {
      "cell_type": "markdown",
      "source": [
        "![image.png](data:image/png;base64,iVBORw0KGgoAAAANSUhEUgAAAScAAACrCAIAAACrPc0BAAAgAElEQVR4nOxdd3iTVRc/yftm7zRtRvcedEJLoWwoo8gSEAREhqjo517o50Bx8akIioqIiIioqEwBAdmj7NLS3dI90qRp0uz1vsn3x1tCaEtBpIHU/p4+T5ObO8459567zz0kp9MJvehFLzwI8t0moBe9+NehV+t60QtPAyX+FV1p+PNkEYNGubvU9KIXPRhmq33ulMF+fEab1tXK1V/syWNSkLtLVi960YNhsaJZg+P8+P6oeyibht4oQS960Yt/CJPdSnzoXdf1oheeRq/W9aIXnkav1nU7lAarwYrdbSqug8GK3SmSusjqHmT8HkEP1zqDFVMarK4/zzcCTBjxxbtTZ/WV3DvtT6WDl/770Or50XS99R9mxeaJPnt14qy+ko4/Cei+by2d9+Z40b3D+L2Dnrx9otJB//GZ7y2ICSdTAEDXVL9u5fdfVNL92DSP0SCi82KiAtVwwGMl3hRkuo802DcRoxJflQYrk4LcxkZaI4n53PSRwTT1XnkzAAkADFbMZMcJ8dbjtKFxfNTgJ7IpLL27dNejJ4vjjffnL2DXvvDymu21NgCImPLgX/9bkvLL7qd3VRONzGDF2DTU1Rm3a3lEuHuge3xXeNfJ+QCYRtkxvF0SImf3Dzei4UaBHfO/EeVCWssTCz8BAD8OrT4oqfSdvrvf++G1PBOhLZ3KpFNR9IsJTeLq13zz1345zqahjSTmc09OmI7m/uez7CoSnw31mTM/I0rpmrAupNcFm16NHsgSgYiUkQtiHCuWbN8vZxHtqXHPb6/Tpi8Znjar3vJzTpPETzIxAI7Uw4xkEQA05Bfvl7e1+EYSc1wsP8aXCwAVheXHGqxsGsrmiaZGkw6UOmcki8wq1R+FKoMVS03pl+hrBQAihCjalRwztxyuB1Tg56KqkcR8bkwQ8bmisPyiCic+Z6QEWatqaaFBMb5cIrxTGpQGa2b/0HaB7lyzeSKCHbNKVVbZVGpGAUAa2ieVqSA4NatUP+c0ZfYPpSgVpXbB/IRQNtD8IqRPBbArCstL7YKJAXCygjRjmI+LKZ+g2BmhTgDIO1dwsbVNDSR+kiFBeF5OlVDqy1arDFZsXAq/n4Ai8OkzfhJN3SD/o1BFlELw6GLcnTAXte7sGKyYxE9ChGPmlr2H6i0cz81NPIOeqXUqHcweG6rKzT5WxmTzr/FYX1XVPHVgRgD9rzN4RFbWK/3VqQVGlMdAEeGLmbL3frn8c06Tjs59ePyY+QmGCiUm9JNMj3EYfii62Ipx04YsmcNJu6iX8EhNF86VVWL2wZnzkgU2k4Yu9O/rYwr+cfcXhXYAGDyo//PDhADQYMDTcDKqUROlN5KYHz310H2y5uxyDV3oP2lgwJk/ji3PMUv8JNNmZAXZNQBQK1f7qSr+aKE9PH7MnGQyACitjBczZU98cmhfgzVrSMbLs2JLS+pRHmNstIT++5FT6mtcx8QljU4Wieg4wuEFCVMbso9+f7z6YiuI0/u+MZaUcZXyjZfE0xZPiy3c/9YJRkQMHQD8giP6YOCnqtAI4p+cEZWaWwYAQj+JRMBIuXROQ5aI6LjQTzLa3/TJ9spSM2DCiDcXpvf1MV1ogFR/yDh6/tHf6mMGDpYJ6QCmsACfGJLml7KAaYvvl53Z+fTa8kqu4LmFEx6NsGeXa4IGxx07mV16rIkji3l5alwYW1ehxOhC/0fHxb798bb9ciwyJuk/kyJ4DIZa2YTyQoNb1O8Wte9cvB09ihkXEKdvtIxpu2jKRx2ugYaoOb3x2gYSVRBIbdj9zmcVlVzBsldmLM6UbzitGjyq/6Jh7JMb97x11hAbl/zBS5nzh5pqfq8AAACeSH30iQ/LVVQEABIBdv+0bXutDaXKVn8wJSszYnlOfnBkwrzM8KbT+1/bX2+kBCx4OCPVbgcAixUdP2/aLL8rL3x8aHutDeMInls4YV5mxLdncgliInysH60/u/5sAwCM7N9/4SBezbFDj2ytEAb1ef+ZYU/cF3xojXnUjH60wv1ZHxYH+IvGxfIpZBQAd2e8Oi/vw5wmixV9cNaUpWOTsustJ842AAAA8xrlJHFb5LPn3jDASGl0waETr+WZAGDAONCwyDJL5RtfVVwS8Ja9MmNO/5At6w88cdaQMSRr7TOjRufJT522z31y9HBe6cPLDpxSoJmPzV09NumRkxWrvtsNCydMRwu/+Cq7EOOwBOFEKfVO2viZ057uo170+s4TzXiYv3+YP5Wutw6eMmKsuPThDw6caMYxjmDZKzP+Ozfum9cK+kdx0yXkp5b9eKIZj41LzuAIAJq6o5HcRfTYPcxIlt1hsrUL1Jqv20+zaep+3XXFwqFxLbqfLmq5wWGjaZbUaD9yxbktF+UAkF9XcyhPFR7C5FD0RAZnjzWrqAibhrJpaOXJo8SKUa5WFtbpRSIpAAh8pKFsTUO9wmDFWPb6A39WyCkkALBwg5/I4NRfLt5ea/Nj07gW3b4auyg5bezV/b+SC/lnLpb4sWkYRxAQGurQNXx/vBoA1LWFZ5RUHoce42ys1+Ky4VnbxzHrG1QHz1W5JqhtORTlrT/bYLLjAFBfVSV3sIJB6+J0985ygvJOxcWkIMR9QDHZevZYcwWDBABqlUleWv5XpZlJQRSKxit6hn+A2MINnhJDOrV7/6YKm4NsvXDgdJWDFiZhurISCvju+1Vkus/9MVRVXsGJZtyPTTNoVZeLGq9woub2c14+fo4IdMn/IYEdADCW7wcTAgGguCj355ymHjbQQU8d65wMR67Skd4hnMdAmQara1JGpRkazQhcbSFUgU+QkAQAwQPG7h4wFgDMVoxBc17+y+LKobm1lU1rS6C2+az5bvY4ztXf6lUAECLjSu1OZbMKgEUEu6/rampricbNpqFFZZUG6OvL54Phaub0tkVOAAuPjI794atYFw3lpUF8adE376zVPP/0288/7Xxee/jAqXe+KXJf86h08NTzc59M82HQUACwaSprgAeu3G9rZ8ImCAIoAgAqSgIAnbweIBgABi1+wbQAY9BQgrxLN8tH1djifstXQMEBoFJhcEmjSa2jCvyDhKTNu078x0j7csbEqvG0SnnuRy/8danHtdKexg8BqlORX4dMHNh37KYqV4MwWLGA0NAQetOv9ZZaEsQAAICMjivgqqWFqSavgdcfoObM/v98ll2IufQJmBS+7Poi1Daf5SumpVYcJC25yCLT3nl91oshAADVjTo5he/nK4I6MxHTfQ8zOCjIZK8m9gziosLYgDe3tgLapp++FhWhePVGpLy0+N3P9p1ovjaa+bFpANhvK1dvsqL9xw9f98jQpWrrO79XEIqn0sGTz894uo/xmQU/rG1xTB6UtvKJFNdYd/uS1NR2Gn7q608Hb7eHcBEAIDtodBoG9K72PEQyH5O9xaX2GjsCAGFiNhFosGIyIdemaSF+vXzoYL99+23sqOPrsz7/ivvMk1sv0en/kJF7Cj1zhsmmoVvPlLWSpDMmRwAAcUSemtJv3iCfkgv5fxSq2vpdZvCgfhy63qqjc2f346nKlBfIlgulSohMntlPCgBMCpLZP/SRdP+ORZio7GQ/cmNRXRibmR4tForapljGVgXJJvAPEAOA2uYzJitcancCAF1Xs6PEGZAYO8QXURqsOjp3XDBFlXt+f4c1C9eiq9S2okLJ6DAGQefQ/v0fSfdn80QPD5GyaaiDbG2ubDpWogQA11jH8AkQipi6mspLNHoIF+kTF+mDG28qKInBiAmEdBZOzEtvCq40QNtUeazRGpDcZ244FQAwjuCxTN9+/OuiKQ3Xzt9JZnKpBURJ8QTjbJ5oYh9RhL5sd7ldFhfYB9UT0pjdj6erqVwvp2WkBA3zp7VJLFutq6k0CXra2NDT+HGBmXPoWebw5wcP/jFFVaHEAECSHNd44MKvZxrcT8z8R0x4LV1DF/r35Wvf/riITsOV+QW/R4+cNHHYmnQMAHBT86V8Rcf8iTbxdNawLwONAACMtpmSvKpw46nIOan9twRHNLEYZLu9BWEBAJ2Gndt99OfJQ754i5ddrhH6SdiIbeO6Myoqq93NDjYNVeYXfMvjz584bEV6G6kXzjaU6UzP9xtzX3JrPQZCP4kAVCsvyl2pzC31B05Vj5yS8M5CMQBQOe03WjqFUtO4I1v96Kz716Rqms+e2nsLgg0WOPf/lJ00I+2Lt/pkl2tQHoPcVFaYL+dadBdKlVPGD3z1hfj5F849c7gtvpRcv2vNTu7iCV+89UB2uSZIKmy6cK7MD8nZdSFpfN+Vb/sTe8VMdfUHvxfZeKyoPtHDJg2dpGyiMgXhIfD1huaLreDBew2eAIl4N2XfifwnPt/vyUsbHoD7eRpcf/hjsGKD5y1YO6T2pRUqaSAObed1eMfzOuKAizivGxNNKsyXE2dNRLTnhradQdU4qcEkm+vILjFOFuPLZULrL7trotJDrVW1rhOq8R1OqIj4rqMtV+ad0tBp8o5JKgrL7X5iolzivM5Fm8GKZaQEuah15Umc141PFuWdKyCojYlLiiQ1uKKF+VNdRLpSYeYWd5kQjBMHfe5MdRrfnR3XYSBRUDvG/3FbuCegNFj3fDgrLsK/J2sdgRvdBSG0btKcg8R+3Y3uRkBnN0g6RiMWJ51eK+k0vNMSOzavjpFvemmji7spNyrO/epJR2pvxP6t3OnpWEpHwrrIpAs2vREures5LN0IXVRbpdZxowi3GOge0v6ayNWvNwr/5yXeqXxuhYuuf7qNnG89k56Hnslbp+OGO9g09OTGDQfsuB+/Bw7vLtxUDvcsvJfyW8E1xjCOgM1ldhHVizAvXbr1rLzrOGzPkHJXMSNZdLmZVt/QcLcJ+du4lRr0OjSSTAiVCS6tozIF0dIgNq0nvFZksOILpg4+UH78bhNyl2Gw4hNGpuoOVzQbfKmINx0RGaz4gxMGnq0/2+4ukbcjmtW2W+ZNldGLfw8w3HG3SehG9GpdL3rhafRqXS964Wn0al0veuFp9GpdL3rhafRqXS964Wn8ba2z4Q5bN+8vGax4ndba3aXcIu4UGfcUU+4gKtRFGEHnnc2/mxhvR/k/ycdgxQ3WW7K6uO0k7vgbWmfDHTwGGuLDDPFhyvh0uHMt0h1mK33iw4MursiYzsHvbht18cu76oOFx0AJxv8uzFb6nLkDLq7IiEPJ947iuVcoUacGK04If4DlNttTOxis+KjRCRdXZN7Z2mxHuauCbi+rlITote8Of2eoj8GK30oVu5KsmtDJQ6C3gr9BbkpC9KJhbBaFbrHhvjx6RU7xxyc1WjNmsOJUlGTDnABARUmuA1lXT0AEEkInorFpiA13tEvSaa3cKJoNc7qX1R3AMeasxRnjOFBwOv/7g835Fvri5zNGYpX//aL6irMrwuCq5bWL2es4wpwADiKJS3QuEXUUY7cyOHxiwoIYjrLVbLHhBp02/0BZfbO+RgQqBgJuPLq4cNURQbM7v64qbicEADBA2+DpnuE/4RGzcSbNTZ4mIdcqrXQqQre0rNtXfKIWgQ6tzlWo6yshc3dpV2pbASQAQHZwJ81Nnkhr+PTjiuMUEhUh3yg3V5I2BjtE6xq3pHUGK56eErNwqoR+Om/2Xg0AZGUlvjg45jFd/rLjlrGDuE4thgRKo6m20qKSE7Vgwx2+bOqgVL9YEQ8ADh8sKbE6UhKi+7NsZU5zSgB9387ahiDxnAQ+AOAttg3nawAgJSF6YBDgLTba1b4Gx5ipKYEDgwAAWrX6nPMNJVbSiHSJU4v5JvhT5M25Z5qudL+D5/iBMdLSpsulCABYrFQAMFvpmYO4BHe1FRUHyh023EEQ5pLDBVwyJ4HfqtXnX6q/ZEYAwKZp8YsQPhfu4+Jl7CApwYs5v3BnAdXFLJFntzMGAAA2TeVHX1TnXh3cfGlKsblNwUJ8mBmxfD6PAwBH95cXYY60UH5fsaDMaY4V8Vq1+vIGk0QsCvRBThwtvqh1RolZCZEyfWurTEQFgPxL9Re1pGsFYU6xWJYVSyIyJFrFP+lcbJq68W/kJaRHLJkRNzZa09DYdNkIWVmJ0VQbAJwvUpyvaqUi5IkDIgJ9EIGm+ZvLBozmMz2W1KiyHShoTk+JGRgEhw+WuC6epfWThbNQKidwyLBWspqc10yZHkvi8zhEJeYboU4kWxIDBP0umK30ObMifU0WADhxtDjfCDdl6pZ4pqIkoYQaTjatOqWmoiQqSrpQqszVk8PYDqcDmTouevEIUQrDjop9Hh0XO0tEoiLkWTNS74sS4C02VOzzxLQAHGMKJdQxI4PvixJgWrOcJ34kjUH8mjWAFEECFl/8wFhZmJCsR619eSQAaLVzU1MCF06VhOCteItt4KjIhSMkAh9pQp+wp6fGp9NtOpXSAypXqzTk6smzIwUkclu7FJnx1JTAqeOiBZpmABg7c9DL6XyBj3T0kNjFI0Ricwsq9nly1og3hwnrWvBpQ6PmDpG2iVEQOEjoAIAhfX2m9fMR+EgJ0QU6tAbgE8wSeWZlJj3Xh3Xby4bbBgKsAYPDHxrtLzLjAh/ppMnJfUN5eIstIFb2+AwpjjFDBkRPzgrqJ+brUb+HRsfNHCyVAR4QK3v30QiygyuQBY4Z6794hAgA4gdEL5ocmExH3DOfu6DPoGQpkeET0wJiaM47Mu3ksBwAUGhkZWUlTo8Fol0tnBgYh5LF6X2nDRSH4K0age94Fg4AD42OzOJoEWD5JfhM6C+Jp3ZCgMrBM1qxWQO4MiG3VasfOCpy7hApZuMsGhPy0Gh/vMXGZrGIB8VNZtaDcxMeiG9rzIsXpN3KXPrWtA4hC0VMXZOe7ickvgJAk9oqDWa44uzdW7bxYAXG8o0LIhvDowYHO5R59a9vv7zipDoyOmKhvxUAGDSnMq/+k31NxlbFtqPK17df3l5iswn80nxI7Gj/ZI7j6PnyTUdbc7ROAFAg+oh4vq9SsemEfPXJyt3l9qBQQZKvHQAYNON3P5duK7DfUp38A0gA11VUFZdj0kGRY9lt3fYREmtImo+vUrH9XOu3+8rL6+wJSX480AIAnWb7cdvlE+dbGilOZV79jpONezV4UKhgJEkHAACmXXmqb/eVFxs4fiEMuPpM4L6dtYcKTBHx/EBt3bs7yh7fU3W0Be07yD+R1S0r53agCsL++9ygX18d+vmCuAS6BWsmXkMDdrT/uGBK/oGy17dffnmXPDI6YqaA+MlUfaRw98krFQ47BdeduFCzo8RJFQSO4zoAQEy25ucpvz/asKPEGRkdEce4VkchQ+PGcew1x8uWHSxbk62PjI6dFM11TThvi/LAwx+N+3JGlPlsyXdHmgBgSoaQWlL3+vbLL++qdjio81IQAPDjo1qdfdXOkr3Gti5AR+F0muH5i40VRsymqSs+UXm+qnXvmboPthWv3FeTq3TQhKivlD1MRjNdqlp2sOyvYmOFww4AchlnQQyn+nTVsoNlGw9W8OjMrIE+N2Xq7y1DLUo1ANmGOxgAEiFNfrntQR6FVp9voTvoAgx3hPvzwihsNrCHT0svmNaWUCxm1gPomhRH9AgVJfEY6KTJyV89wzRbMQY4AUAqZOuamsxWOwC11ALjAOh+QimjTUxUlKTRUYF3lY76+lwL7oG72k2ABADsPnklNjJm1lBKHgAAiMQ8iZCGXlERq7vCOn1GBPhyqQBANZqdwiBXchyMulYb8IHKYQOATdOCW1EeA5Wb8Qw+hwe1AIDKVbkWXCHhSxkIVRC2fVUQ8cJXeWk9BXWCldQZXXcW2vdWn2uh0ACgyUKXXg2VCtkA6MwnR8wEAACzFWMxqfUqEwC91EECAL2RzAIoaFQOAAAAPkVHPDakcvAA2t4dCgvlX3TLUNfUBAACOlqpMgDwfWgW19rvNmDT1H30RXWfB9KmhQooJ+SOuKBwMgUGpRYMSjVbMQYNzQdQnM3ZFzNg3Ni+B8dqt3yVs+vv3KbGo+N+XcAQcmgAUK6FEBlXhtu0pmtZaHX2jKhAAHC2qAV0tMCEqAx4APPmOnWr6zq1ysSNEWeFN1zM0QFAGI/PYTkqDWQ7jgCAmMdJoMv1IjaKkCsatEABAPvRrTkvZre9giego1lZAAAsGmrDnKHDMzJoTUs+Otma1H/FWBQA5GoDN03MoF0BgAAeAmC3KNVyM048m2fDnAKuDQBa6pQAUeC2UvcAVArtoTzV44NjwmoBqKBSaJvU1mRfCgBQEXKfQA6A+oqOcdN8qAIfB1KB0cRSBlJbpdFe60Wuor5w4ppGjQUDAAEdpaJkz9gKkHGkwWgFAOT69qBrqv9zW/lHFW0PEzaxWe+JmAA3GX5FZC0CLAHXpmtSV1a1Qtubt21VDNCgsWCpIjaAvaj2n47k+Ra6vgZ/IIafFc7b26gDgPzdx2btUtM4dAAQ0FF/Pu3A5lMvc/w3zY+eOFCw68S1rR2uEwfX83AdYI+K+TCD0XDszOgjpvffzgoHqG7UNSKyKDel4nEp2RcaYSwfADQWLJ6Ji9hIRYP2po3zlrSOWMjtC+RkDPKfz+UAQP94H+bpvF15agBfIs748VE2EVXIsXxwCTfwGnIzYoKHRr3FVOtRKwBsOtoKAHRa27OwRAVkJFhpMVQ2UABAV19X1RwwPC2SK9ImOHEAiCY7rxS0akZQx46KC1FiYyIp+X8pc7XsEbdC8R2CBHAAwMF44M+KPoHJ44JB1wQjnMbCOv3gwcEL0uh61BoZSMnZ3qBS4ABgYzEAtAAgJlvrAACAy6e6cjNbWWOGSDSsiMHB9rwSu0phIRYkACBrai2s00dmRL0z1FpFpgNAo8qWXa5uT1D3YEhqcDJqBYCc89cs8cpPl1bGxCSMIb1VbtGjVp1KubPgutbCYTk6Ko3CQUtI8nvSYY2PpCjK9b+08Mde/clQ2pCbEeOXFPAWUxScwSkvLTvf4vyH3QpJXaur51zRx/UPo40tatpQEvjAhH7vIwqi1eWeadInJi4KN/o3oTLcVmlBVArtST07I8nvSYdVSrIAXHdI4CDr8uuQaWmBQ4a16vXOWkBRH+GizOBIlt0BINUqLjUEJaeEvtXE4QWxwsmUAgBpo35rk3V0avhbiJUWJ9XbWjdeuvlqHHn77bcBoEquO1GsoqKdiwAhk0ythrJazOGwyYRcDoNWUqPYmq0sMpMxjDkp049lNF6o0fGdjm0H8nK1ZKNRn1NqFbNJbA5KZ9CZTpOxXmdn8B0m/dkKo96KISanjoX40UFRr6htsZ8tU9SqTHIzV8AgMZ2mXcVOe4vidJUxp1Zl0Tv4fIaUg1w+X/jlaRxBTX40mk1lOFFnRsid9yg23Dl7WOjWUzV/uw6vhxW3kpwWuaKlQu0kk+0lLTY6Zsur1VcqTCdLmjRW3F/M4TNoZ4/nrc0zU1DMgVsqKpvzGk02JsrF4NClermV5OvDa2hoLa9tLbEbKHJrKU0QgerPFyoPX1A02e12mxWazWeabXQKXlqit9oMAj8Rn0FjsikGlbxC/Y82i2y4875UWX6VprHV0qmsrLi11WlETRQah8Ji0PkMWlVNMytQkhGEnjzUkG/UX2o0B3JpbA7KYdC4DNKZKzY6QrO3KMqrjUqTyWiy1FU3F+ppZpuFjmHnS1pRX59xfSjnSy04HVE1Gnbsr2i02bQOki/ZmV2irtcbLtS3ZWjUqbZsa7jRZpgNd04bFPRXTqMV63wwtDosPhSbSWs72eAgm8w0HHGaTCdasDPnVGQx148OHAaNxXWWXVHX1ylsvpIUhl1bXrP6vM6MWUrqjVIWg0TSH77cYrTB2fIWm81ONVuKWhwKrVWvstBIdjKbXVevqKtUUXyEPCb5Ur62oqqhRYttrndydXqRiNWgbDlVZixsMjfpdBUVNi6HxuagYDVu+b2w0HrDPUyiRkQ8RttrRYcv1n+wrbjrlVK78ygia61B8O3yeEf5lad+0OBgbHes4UrrOqBzFeG+QdfxtMoV80ZHRl30kQYr/sdbI2b97w5YtbrOdqDDsU/Hs7V2B0HuR1jtzrI6Jmn76Q4dZ7mI//Lx1J8OVxAb6J3GaVdNZAd31ry4BTGOl969eMV5k0rsePCVnhLz2nTBha2F7+Xo4PpqbRcTOhxjtqP8p5cHv7zufBdWre6UuDeJLtpVuxblflLqXhFEDu1OI135u9hpK+L6QruuNaJGooP+zvueRHbUzmQl5nFwqHeXIxUht4vZLqSj0N0juH3oJJ9bp/kfoguOOhLminw9I+QOHzrPv9M8uxvuJdpwx9zJybNiaPJTF4jNqq4rsR2/HZt7xyR3kMFOhQw3a1cdEnaS6vpK76rcLgrtGtdp3W3sUzMYLY+/eRSInuPeuOtE7EbcI8TcCyBuw9xKzPVbj6/fCnBbtUlFSWcvlQw7jQno6D9sDEQNwtXh9Lbzudfg4uvq63Fs2qBIAatHvMpktGIAMDxGdLcJucswWjEGnRLpz/S6ajVaMRQh9wng9gm426TcURA1Aq63n3vRi154DL32db3ohafRNvdQtpqrFYauo3oREkIE+dWau03F3UeEjNusMXnj+3Y9tQYjZFwh5+qM32LDlVoLxateTbwR7LgDADSG9o5a/22w444IGVdrxryuZokaNJgxe8/aEiNqBHpnmP8GeJfK/RvQWx+96IWn4WV7yrcBGr3tXrLDbu1hM5Z/Dhqd4S6WW5FVj5HnbfB+p+BprWvHancDU5WW5/yx72ILACQ9+P6oCNSrG8odBI3OMNbnHtn7U4nP7EXjIikIGaGYK7N/3La/EK6XlavKyAjeUnDswO4jSgwDgKChi6cPDfVGedLoDEfDmX17tpX4zH5mUiwOdne+fNIXzRsd2a18eVTrEIr5wsbXLgUseWSo0AO15TSpq85/tyIv+Ylp88L8jn3x9s6INTNDKYhL7V3tydXPtYN7zHYhXg0ygpee/vT7rWpHa4k6rAnGRZIRvOLc9998rT9618cAACAASURBVJ350guBlatnv/ee8Itl8QyHe5XhgKvqchoFYx6amkjk442iQCjm0tNrvt+qjrQUnQ9p27dX1eVUYHEPPjKdg5qg+/ny9LrOqm1plnvoiALlMQAgzN8/MDpWJJn71uppAZi5YNe7H609piaJyAhe9O3M978/irGs51YvWX9604p4nxHxScu/X7fvm1eeHBoyIj5pi4JBQciUlryNb04cEe8/It5//XG1N25OOE3qZrXWjjvsuKNZrbXaSCEpT7z7vxceGBJGRMD1Ws2h7L4PDk/MiJLc/8yDmi1lKiHBaUvJSaLKSORr28J8HsdX2ME+0BuA2xkE79FRAvdwhm8AeIovD411FHDW1FVbWuUqhb6Fra6ptlNYQj6P060t2OmgikLG+q17YrWz9aEBsUHh4bRrxm6AuFk02p2Nv79A+6pY93ztiXWPzr7w0G9v/vWl9Mj0Cau+n7RyUmVFU/9HN897lwv75j1y7HDmyAdluJcdS2iOr1q9u9TXPwwAmhsqBclPPbVgEHK9SafCjFFoUpJKg1NYLAEYasvMDEWtvKXJ4GixqWuq7QAgCuwryzvwy9q9DWfOxrzz+/xk4V1h546D4GvP+r2VR3YkfXSqu/nykNbZTBpj8dZqHTe/qoJq/eOoiU0NS8/IGiqzdmPzdeCIJOW+h77xP3L0WM7/Xjs7Z9cDw0JvFHnIf+YGWwxmJ50xcOqYeF8pzchhCYzyYiU8EhmfVl5w+Gw1E1EIAkh38oVWj0E65eP/TbkuxGox3yiy00H1DRIWtyqqcv6o1nHrWuzq2sKj+5XUsPSMrHEPp9wHAPITL33y1TcFn72RwnZ44zzTHQ4cEcSObOMrE339veWpmz7tVr48pHUkpjB+0psxuFqgvnBMOO8/88MMZszenSpHwGG3MsSxEx5KbuobuOWNd06Hfi91+1UgCoLmTlIZr7qiB3GYHzRf3vz5YU7EiLDg7qa2+1CZve5YTovrq0/g6JGZMe3GOjEDrbDK7Xggi6GpzlOzMsXxo96MwdWi6hPkkCH/mR9mwhCH3WrFbQBAiUwCuKJuskFET9gGpyBkohuiRCYBnOtuvjy3RCG4MsiLwVPXDpwm9d4tX5fKrQAQTNUcLtOpOBymSGKozAcAZ+WWj9acvGkmTIe+oLRQ2m9U0vhJ/vrjtd5pdyIOShs+dpLrr2+aP5vFcv3KZrFQHoPdR1ZXadejfvTyA0eUw/v2FRFVpjVWA4DBjFWVF13KLVCTRDQ64+LHz7WGREXE0L1xoHPfPGMzUKdJff70MYIv0t4flTFp3c2XRzsq3M4YvvTEINxDcxKEw4sLY658OLQZlSqaNI/tk08VGamB46aUr5jdjx8aMnXCgr6F+i6zUFRWO2TDZ0/+6cPJWZfVY196O6HJ+7ZSAAAVRcvcvhJ7mGsefT8P6AC/PXhYMOq1v54YM0+7ftXsfgsA4LF98hS22Y4DbmcMeuPYIAA77vBj2Mq+e/ylBXIfIVj6r1z9zoPdukDoJhB7mFd5Pzw+O/WRR94Mlq+f/eQCHyGofZ9e//uc7uarzdKnVmm4XK3xxt25jrDjjlFJ0uMFCri+V+t4DOAKdD9FbHecYLWY250rdLEiuqdgxx0ZsX5XGnU3upLaqRzcv3adpPvkQNTg6eLm7uud2/FOptBcX7uVr4xYv2u3n3sqOpVgx0D3ENfnjh96GLqWwy0m8VK0ZwT3KF89YXDrRS+8C21jHTGUe+PK+EboSbzcNjBvrla7p9b/nse1FxzMVu+zfbwRGDS0J7Fz2/BeOXgv5V2DeE6/baxT660ag1ee/3aKcCm3UW2621TcfciEzGatxRtHDJmQ2SNrUCZkMmg3eOy5F73oRfehV+t60QtPo1fretELT6NX63rRC0+j52sdBSG77tz8rcs3PeOmzk3Rjk3i641473kyuSsc9TQhuoOM4tWnv5sk5vQdkjV76vjRGU+cd1DcNdBdId1DcEBbdz6VuXg3h0Fp96uneeg2kFG8+cKuD7OCBi45jAMKAHrFsV/entV3SNY0Ge+1X9r7IdMrjj0n4/UdkjV9bNq4l3b3AFFgVP2vc3wGDpw8fWxa5jPfnC6o9xhTPfxGGADwpn286p2FiUGs/a9Er1l9PO3ZgWQUr7p02uyk18pbwhIyooKYDgxx6Br2nC4AgNDwGACoLJWXG2vOnz3NCkgOldgrLl4sbTTS+dLQyLgwX6rX7cXjgNKRazTjJLu24eTBUiRqwANnHDgAoFRz8ZntP+kzf982L9m+e/DgmZsG5i4Mvu7UgZ/18Or3vhkbCRju0Ju73Sm8ZzBhxb4PRzkw3GGx4R6rVq/vsW4RelurzuJHRUkWnEyuOLdh1ZbKyuqK0oItH795VIGRoHL3siUXjDbMrJe3aHFTMwCEtOQXVCrtdoM8+6+9R85iZv3JL8asOyTHSd7X4NQXtn2+8uOdW38l/n47WMMUj5q7YGRg4FWveip1zbHq/pOG8IN4anFiZqDSXiNvlwmtOvfEz+vX/bh9T72hB4x1BHJ3fr35x80HzldZcM9x5NGxjqgqOhXxZE+pO7Puk6WX4/2p53nPv35/HwlJvXrD59i05TOnRZhx3eXfV/55uDxlaMvGn/6Y8ty2OTG4wWy34GRJlRRVjlswa7LRbjGzRzyWOlXERqZJLs7a/Kd2wfMcg9Fj9N8RMOmcEcOHub5qyFQEOrn5EWQBjsFIQoPFUo0BgE5F4Kq5As9/8P0rVwKA7sLmr9+ul254KdKg8wjt3QWqg5n+6s5EJ13f3HD40yXypz+cmhLkmaI9p3Vozek1Hzyx4bwFWvt/r9zhsTrzSRj/4OOPBlxe8sVBhS1cqjLkAsAvi8ZXfhtsMzbn5tcOfCbYNnb6ql3Pj+gfun/cxIefeeW+fiKX2Z0do7FU51a99H62wmEzNlP7PdUECMczpN850ONHpzGuM8i9UceHA4qR9Qq5QFNV9fs7C5f9Ugit/b+s2pJGhoSU/hacjCYKD2UN337o2dczyF4303aHA0OCEwZTELITMToNR749kJ8WLAsUekIjPKd1WPDARWtzn0DIAGD3YDdpZ/kHyCRB8e8u+nbMpg2j330AKCTZd/nfj/K7ZmFlxx2S9GWVyjd1NevffH8b/83/RF39iVZzYtvqL1sf/HTtfSmtR19eutH77s1REHLdppnRLx0USwQAgNk0vOEfbf3+SYHtOvMWrgSpaK4xsVO4hmaFycZNTJwwb/uE1wAA7LjVoNOjLAEACBWXVRCZ7O+dRvVusBr1KEtAAYdNpdaU1oX5U2VCOnQ2Bbjj8PRuiud7R1yvAQAMol754IFBP/1ZtuClfmP6LHt7o/TZsbipGWH6Cv0kAlDlV8sBQFGL86WIlGYEgCtH/zjfNCDYKQMAckupqop/aN0OoD7pYfr/Oey4QzZ7S83ca5KnUxFtY1lFTVVlbZO5pb7ySoXQT5IyfMzeXy4XnIkNuPzmyVEr/sjg2N0m0ifev1/3wHcJHOeOzSc0ETOnxJDsBi8e6HBA87a8dZg6fkqiQN/ccLpUNnZ8bKez7u4A8vbbbwOA2YZbbPhNY3sLhByaxmAlkZ0mB8aRhEQEi1k0Mh4QRlFbGbyopKTIAT7K3YdPVlfXXClUUH0lCdTGH/ccr66usZPDR00eF+PPpkVFR/gxj5+5xOyTNXx0aum+n8pKq2InvhQdKYmNCqTZvGNDhcOgmKyYw+kkg8PhdLr+MLDr1bnZu3KbmZJYH1NleZGF26fvwNS+/NbDx4+XtMY/v2ReENgdbh5F2Rzz+ezcyvKiZkrEojcfleLdO+ZzGJRuXfyTwREnE164cL66uqZEi42aOX9gvCccw3IYFApKbrP06Xk2BxXytkksBbm2/HB9brcFZ8cd7iHt4nT6q1ega5uDWxGCC+5nDx6QgGdsDjxfrYTNQc8/r3OXputzRxF3HeJFmnbruBUhuIAAZu85k6E23K1q7SGnLr3ohReh15a8J8N75eC9lHeN62zJK+S64jrtXaXnTmJUkvRQXvurFf9C9I8SVSsMSq3lbhPyt0G8rdjzJvbXvczX9U1z70Kn+yX/QthxB+qd1dpTa9DVifQ0xnrRi3sfvVp350GjM3peP92LO4ie3zjaPat4x19ZbJchpir97qkJx3Ib7mARHgAFIVPA6c4IGcEJ1nre4soFguV2x7keYLmHa52m+PDa9KBJD68mjoAxVem2T5eeL1K41rEdbVVdgbdi/+o0qYu+W3a+SOEKr8r5g33/JyPSwjrNs3u5vV0gFHNp7snNS6ImPvZepdLeFrL7v4/Pmr/q0QGvfnuhWd1zdtoIkBG8sa4qZ8t/J6ZH/XxGR0HIZAR3Vm55fNb8d5+d9f7SD49X9RSfPncFovsz4ref3pw/9/EB/kQIi4YCAEIxF546bgKm3egMSUryFfIo4FQWH6nRt9mPmxgRg5P9bIoruZVKAOCGDIiW0nCwXxfiJ+AMGCPzZ17LkJ8uM9acr+EmigUIxVyec4nOlyrl9Xaj06fPwDA/SudUdj86dbRCgG6pOnP2PG3Qu4POqImY8hNvfrre+cZX6xN8yte/+uj/SvZ+NsS7LQzaAaVqDPKy4uCxDwbtIkIYttJPlm0e+t/vnh8sOffb85v27Ih/+jGhU9Udpd+jve8dRDMt87EPUs++t1xuveaxjUyhlez5csuOCgAw1B36avcxO+6g4sWHN/96xUDRlBz8ev1uAGDYSn/dsQ8AsNxNL3++Awd7S/mBrRt+LMyX8ykFK9edsZk0pzeuzC5uRSjm2rNbv//2EgC0tpQc++6jywoNghr3Lpjxvy07rxgoFdlffPDbobskA2jI+XHDF8tdf/sP5LurkBGJe+jxpwYEXDsfo5bnO1NT6IEsCz00Whwmbeza4Zj3wWYWJQyd8tCIeOIrmUKz1hde1kaNSZdozWamOIHS2NSqkHfT9MSjY901R00Wkx08ZyrCT3105rE+n2x+aNmYNodJqPHiwS0n+/zvr/QAB9rPR7308835gyfZfy5yJD4ycUxQUd3JkuaQ1GCLgz966vwAmYQ/kLVzxA/16Bx62elCRsriZ+YH2hRvBdsA2m5J0S1Vf3xyIPGd/6UnhDlJsS1vPJkjd6aGADuI12/g/DmjpHh43eX3cxtpk+6KzzdxUFo6m8xgXD0oYgldXiNv5DQrWhQg5bDIGowrQRpbGgE8ZPHZfWjnJ8xqMVPdXKTVtFgFQiEAIEBhMmR8YTfeAvXcWIepSjc+3ffBzPgHUxfms4UUcN48zR2CHmOOXr7Zuvbl43lt3TmbaqnOu7BzftyDmfFTsiat23cQ2rzjglplKi6tySX7+posmNZcuHrCiHj/zFEzai12ANCoaqWhfQIsGtzOCJBJXEVY6wsra6jJKXFWixnHWP3S+qsr9QDAYgWzg6Ic9rt8sxwVRcclJoZGxhF/Ijq+/7XUEfH+k+PHbirpauPHQTZqTFSNHfEYqd0EGp0h3/Hy9KH+I+KT3tiwo5FGbRfB16HRqNUAgIPdZG5sVXfjzRgP2pKLouetzpkHAAAOg9qTYx0AkCnjXn/t0P/WLbek9osBAAAqf/prRzcmYdfubchP5OUfyLfrjmG2lKXvZjKpqGbLwh9Fr39XPCPFcvSxET+0RasqrEcTAsBc39gkorelpQX0CQv+A2vW0wQMJ0lV36QPD/ckfzdBxY/zl/1S6PrKynjty9UFYz+0wA3GOltkgmF7vtx8XwhqVCn0w0feS8zcFqwWs3TKx79P+RgIljvMOHxl8UnU8+pWRwAbAMAuk0C3XY/26AzTzVWfpy2RHXar5P5n+h0ZuGcHFyaBihw741HGn6t2WRIBAFCGT3RcjBmJnvxEwogxaZZWuUkpt4sFctHggKKLJw/RS8uOWM0GHYUlzpgZteFEyd5om/D4nj3CZ96ZRORvoYeOmit9ZtGKL19NqygtKFH6DxvLBcCNxhruVRqIrvSuIG7Rll8WXfvqsFvtKo1r/CV2fWoKyhtaLDkFF/Wt4Rl9Z8Xt/PzoH5fSsO351n5zRvp1bKZeB3dPkQjFXFfZxDBUGWq1psrLF7mNMQMyRs3d9/UP2Y+naPJ3nYybtzTQp7tG+DarVq3Rpmi1IGSvN8sHAIfTGSbh1CiNAEAh2TjiQCGfQafTyBhDEh4Z0TclMMyfQWPLUgaxyo6XW8y4ukGpsEb2iXbqWqryzjbabU2t2uJfNhX6Dxk3aKSEbW5WqAxBCYOGJvuGBUoEwQFipKE2r75ZmrJgpsiipftKpOGJfAZNmpiSYKkpMJhwKz958vhEsQBIJEZwjEwk4jHJNgyVBvuHy2QeE7LD6Qz0Zan1VosNxzHM/c/dXBUAKDRt7cHserY0PErKM9Q2k4Ojw6L9gsnaytxGY1DqzPsj6O3nY91NeZiEU68ytaPzDoKMYI1FOWdrWzjDxoSQGxqcfCbVPykhEKs5V2d2Rg+eNCQq5I5vpRA1wqChPdwvOVxv1QodjFxd4WQKbf+LPjn9Tr02O4aJ4he+nv1+69Obnk1rl7N7Qvfrgu4+zd0jd2pT6xnc1C+5OzpauML1dr3dQeGN4AG/5AS6NmW+48X9W/ySQwfx3dBWFTcnPbKuYMagJYcH2YzNusin3liUeCPR3yiTjm67vcU0tlPa7mWC7wj+ll3vHcQ1rbuXL0/cBm6DF7/I+56/1NgdxNxdeG+1ei/lXeOaVWsvetELz6AHekjG7Hh0kMD1WtG/FpgdDxJzvNFDMkF5z/OQTPDVMz0koxSvP9K9I/BeOXgv5V3DxVcP1Lpe9OIeh6e17h7Zs+mahtvzmXhH+OqYyV0X1z1SZT0JnpOm1ah36Bq2Pj976eESq1GPe+RajNWotxr1LbprS1YKQrYa9U2a9lv8LjRf2DVs/OIrjXoipiutQ9fQRapz3z0fMnSZq9DbezuyHWEUhJz7yagRT2zQs1ldpLpttGOQ+FrVrKxqVrborMTXWk2Ve5UR8nTF6Q6qPICOXLjz7oGW6SGtI6O4Wl2067utlxpV6r9Wf7F2Z6Wt23txMorLL/82OzJg4YqThHBxQJ2VpzY9FTAs7Z1yGwpuIwkOqKtTD/f1JT4Ur5ny5a5iDoNCQcglRzdu3XmJUICOlq9skS8zVAYADl3Dn+s2nC9te6Hs1g1kKQi54tDqX7bmEkXggDIbz5wTv7/1+yeFZnPHyP9EMhSE7NA1ZB/Y/un0PvcvP03wrm488vErM1YtW/bzC4mf7VdacLKu+EjOxj9qja2uKqs4tHp21txVy5ZtWvPNntM13jgGEq3i9fseXrVs2erP3v1+fzkZxdWNR1Y9vZjg/Z3fqrpb8Tx3Si7mBfgnNNWXoudMfuOG+IKnTiRT7s849tfvhc8MHoWQySTrofxcn8S5liY7ADh0DYeKW0Ij4wKFKK3mxC9V4jETEohUDrIx+8DB/ZeaW8SHNu2wDhmYHBw2sB6L4ll0mK6pArcpci436+02RmCfEYPiGG5H4Qg3ZmQGw1eAA4pC2c6tOQCA8MPiEhODhLXuX2VCersIwWEDI4MihWYzjuI1l07ur2gK4MChrYdHTRvJs+iqLp12SKLkBw62sqhsaVSf2GgfLu3W5eCuITjJrtDWazB6zJhJZ1pxAHAixuIz22uDnnr5+ckDNJkLZj7z08D9c6L6+Wud9aVQavKbMjFRIqTVAYTMfeOjRwfwGSRPOje949BlLXr5+cn9hQiGO7SK6uI9OyqiZ69ZMtlPkTn8gacvDv5zUEA3vuPgob7KgSEAwPH1D2LxBw1OpvOlQouHHC8ywucsHss8eFhJpyKYukl18Qpd4DNILAIAo/nK5rVb5VYWBSFT5Ltefecn94R+fj4SNlntJ+kTLuFzWYXbnn3v18tksq22cP/7s8YfkjNRBke17fGtv/6pZlyz06Lgup2rVpbKrSiU7fvo5bWXBL4iR+XlI05S3anNZ1AGx5dDyf1hRXGtjojw+Uk6EaG4Vqe+/O3KdWfoVKSh6sKGVVu0RkZYWIh9/4dffr3D4cNWnN/6+uPzjzt9fTmUw9+su1hpvPWhRnlu7ZtLl7n+vt5wnh07cvzEof68Ntt2wldr0IBIiZCmFicGk/MJX61ElT0yd54rq+pN772/7O23399QZPbi9R73z29/Xv7286+8uacJA4CmouZxYxIAQC1OTKW0FFQqu7V0z411ZK5/XF9JaPiaQThVImB4rJsstQuyUnxeXblx7oKPeCW7C8hxT8b7bvj9rJGGAICUdM0OICKu7zVqHayI5KGaSB9tcFLfhAiLDacyfQV422pN3/fVOeNHhPlSNfE1L755smlGVsdyhYrLa9eg71SPH0J3JKaoAYA1cZpEwHAiRmfN0QNa1SxF0derLMvl04gIKEvQWAROhsOM6zSXDtFHTJrw+BSh2RzgM37h40dz504AAEHyU49OGioAlbPmaIlChZN4ALe0yS6KmTA39NrjEVwaj2MwQocrzYSvVhSJEEs1BY062tDgOKEkNHyNAadKBCFgNlNHPf3TKGg0mZvXZH68UrDi3Rle57bWgSHSxAfe3/NAo8ms3TjrldcDv313KPETAhiKRPhGdLvhvEf7KgeG0FgcHy7NkzMTipXUZ9KDC+nfbD9kry4oYcekxwReK53Fj79pDhYb3s5pNZsncn3WKDFNS+dNPz8kIZyF6s12GovD5vKQIy/2T4pKj09Z/MZlIkJB9EBXBJfHHIHdXldyEQsMBgALTub4Z8aJddVXWgHAJzaBz72dnRUy1z+Q7+P64zFu2NvigGL4FYVcECLjwvVVZscdNBaHxuIE+criHnmqaufu4nLMG4c7FxeDln4Qtm3N0XPXXHZh+JXmK93uitf7RPZ3Yac5a9VBy5bO2bz2y7/ynUMG93P/1dhaAABOxChX6BvNTR2TG60YnYq4VIIAVt9gMBoBQCNvZIcGC3w637GMLz19rNHKYVCsRn3D6TULn2v+vqyx7NK5r99LBIBqELhHcO1eaiiUwJh+aF0NANARh77hYBUeEBLB/ydCaN351MMzJ774wrMvvvDswzMnPvnpvnb7omIehytBGptrTGwaABhIUkqwtF0mxIYn4VILu3BZFhVyI8bvZWB2nNiPpSOOkmN/HpQl9R8gpPmZi3QWPZulU9S14KL4ML9upaHn2xxQrCQAkI19PGJqUs2zP8VGolABAMCy4ixGRFK888TP681R+lNHjsoY412piNHYRyYpO/jLxj7CYeFim6nZ9ZBBcMu2ncdC64ocZTsuTHjsqzAqXFQ1A0jcy1WLExc/R1/x3/XiBxmHC7QjIyXpI9DffthcTrYe+u2y75waxugBrggXcuqSR84MACCZyQyEG5g+CF++ffdam48I1Z8pnTT/P/EUVQ6AStH2Qp5GVQv+f0MInMlf/zb1Ol+tZcWHS8qazp0vL6zed2g/Fhg3IGPeM2fXnji0lcvI+6hqzKtPdfDGilVd2Lb7D0FMJpeB7P+6eNKSF6KZVjvmZfdIyOamP9Z/WBw8NpVFPb3xzFvvfx7hSxMOH3Nm/4n9miucsvXcRUtjI1F7d16Q7Mm+WlESyub4+sjEEgEDo7L6p2SkDh0QwkZ1GFsSF5YULKWwGDyZL2YxGWkxEyZPDpXyomUSJpvJDw4J8hezGRQ9z9+Xy6aRaDKpn0wWHxqbFC5laWrzKhwpSdHBuEEhSp06fHQ/us2KoeyUqMCIEKkNI4mjIyUSCY8tjhyU5mNrMZlIMckjUgdk9A3nWzV6lMGJHze9f5S/kCcbOWoExdRoMpFC+43rHx9CIfFj0uL8fbl0vl94jJ9G1eLAbPSYYZMzoxEnxU7mhIVK/P34dCaXzJH5BYaJOIyu5XAjX61OJ2hb6yuqNb4JQ+4bEIaZ9WjQwIgAaTAfVSsbjT7pUx+e3M5XKwCgdKqvn7RVo3FgtsjMmZMzox3dpnLd56sVYbECWSyrRu/AbL6pk8dPy2CYSbzQPsE8W6tGgwRkDJkwvCPvdwr/Ol+t7UxRO5qouse8kQErTrJXntj4wXHxm4+ODfOlwvWmrp0WRPza0WPGjSJ0NLrt1C72Vmxk/66v1nbEd52qWxfn3e2rtVMubsr7P8e/zlfrjQxMO0boIiYZBbg6a72RvWwXlqw3NaPs2gr2ztrI3p4lq/ee0bnj7lrxtmkdg4oYvHAzqgt0196akxw5eNEPIxFvmZDTqQh44TtDDBrqjbujt4hrYx2bcdceA+8OdDc7bIZ3tAkUIXsLqe3QwxqkO9q0rllruVytubuk3EGMSpJmF3fv9QKvgFf7aj1fpuoZs1l3ZMT6tV/X9Ywxvad6+vy76PXVeq/hbvpq7XWq6HXorbI7C0+LkkZn7H/RZ+5n5720Fts7u7ve06I34qYVQVTZM1+daWeg1M10eRQeZsfTJwd8+6k/98OE7VkA3eIZrB2cJrW85ZrHQ19ZMJOK2nGH06SurG8Jj4rsNEllfUtQeHjHmsBUpc1kia+Q54q5aelER9YPDwwL9cZWSAiHwhISHJERHNdrCXHRg9LEZDXRoTjs+y7sj538W6pNr3IJ00ILiJZ69D5td8DVPCgsIZ/H8VgletqTVt3JU1fGrVyeYrerur3CyAheV7L30+c39Zs7HgDIpb/WDVw3f7i/zFdQXbL3SnPfsAwBVaOF619uNpuar1woMPJEiWKBu+8lMoVWnvNHHZI1ZDiHgpBpdAa9MY8x5adJk5OpKrX9anIyhQY3dk91j4CCkM2K4iNHj7Wc3XhS+sHKZ4fQqM6W8gMHtmYrSYHi5o9zk7a+MzOeYFO+41DN/W+9mObTeOCnzz/ab0ntl84nQdiEaGknfZYXAaGY96z4T3HkfbK60mIt/f6HH0uK8vVM0R7VOgxXX87Jzxw4hqrRdsttn87gM27+gEnTY4O49MrErz5dmi3+ZIZMwmTILGwW1FacLygk8R9AxgAAG49JREFUnLA6yMaLP2xQp83L4IBQ6iulkAGgMnvdsZwWAOgzdHZcuI8osG8zJmRSUQfZ2HTp8J+n8gEun+ZSB46IQ7WN+cf3W4L7k4/tuKzTEfHvnQHQ3VErANjtBgDwDYpFTZnEnINEtqlKjxYy0p97+rFAbPDTU586PfDgqAiyEWk9d748beQLiEYFALyk8UteflpKM97j3cqtwCqvpWa88ep9qcb63NxtK8rrKzxWZR5tFnRLVUmdaFBq917obgdcrwEAq8WsDxw6aM7IwuPZcitLffGHg0drAaBp/1c5BRfJFJrIUbzhy18AQN/csP6XPXqMidb89tO2pviJD6cPHS8TUdksVt6PD+/Ob3aQjbVnt3688lxi+ugB6WlVG5/ZcrrISiU3/vne0jdf1cWO8+UzDvywsa4Fv3e0Tn/yo0+WPkf8LVk0acXabKcgst+gVBGt7QQd05orLtT2S+kndKrsbL8YRFHdqCNTaD7l2fnWfn37tlk2abe+/Mij01576Y1LBi82aSWAiqLHjkno+Ei+J4r2WEkIxZx7YG82I3WmiOf5bpKCkHHAAYCHk1sVcgBwMhwojxGeGrTyTOPIUSw48k1RwPgXY+iQC+G+vgCAUGoLjlalP8JLS5S5fIaI6Dy6perMtpOJLy/tlxBmtxvI2Mjv9p+G5PsAYMi4/45IC3PI0hV5WwxOgx2/V855KXFzFqdcZyvUhc6QnIEhsdpaAAxXnzxxoEY4Lppqc+CIf9+Hlh8fj9H4tT8vXP/se8KNb8lwL7z24gbi8q1GV3mkNmrM8HBize+Bcj3XXZGbyi6ePzd2WL+bR+0GuKSpRRx8cZvlGIoIRSFjM8wXLLXnf9x04tHl7wdjbh46w97YvHn4rieCFsx75kKxwhVsa22bHRPdJI8XQtdblRgHAERiHqGfFO49Z//SqtW7/3UR00mqqy7mAQDdUlV4pSJ1ZIJLRakcEQUhx8xbgOd8ceYK39uHOxqdYVYUH1y6OirrgZRYoccGA89JTalsaaZlJkTKmNS7cOWaRmcgyoKS3cdD0vu722KKEgf6R1IuXfzyO8tjAyJa26VCoh9eeaj8xSnww5EquZUFACqLlhTgHxEsQetqaHQGsRxCA/z90OvasV13b93StBdt/mXtctffhj157is9NouF8hgiMae0skZNElEMSgu9Hzvav76mppmWOVTWtrnXWFdlsmE0OoNR05AnezBKdNecYN4RkBG8qrxoy/I3qIvXzBgVg4DnJiYeUgCEYlbV5ZjF/fliqR33xJmBC4bK0/mH/S8xzcLW4sshT0yPD6IbLABAMpMddqsTqFHxkZ8/9qp0/s5gDCN6u4rmZgBwNJz55VQx16YrKScPHSqW0ozEuwuYTRA0Kv2n/35JMlRzbTpFHjLuqQSmQw+2qma5AUDoSe5uEZzBr7w0+NpXu91grM89cvRYy5WKK5XHfvpVnjJgWnjm/RVb/zrxs8Zft0c//dVFweqq7YVmcf9AH4Q4a2n888Mt3KFBTFS57+ATS5Ymsq12/J4b0m8dDFvpgWcf+AXLerTl9E+/nnayQ4Ylx7qOhboVHvIa6TSpj/7+GS1lcUZC+3cB7jjcvUY6TeqqihKdGYerbpCJuTumKi1UC1NjxUR7qqooAXEacQDlOq8jacqJt6JcCUtzT4I4LcyPQrgUJrLlhgwI86OQEfxK7lkiE+Jcy3UOdrfQhddI4uTA/SUsbsiACCnZprhCBAal389tPnVi70+0lMXDkv3tuIMCTrOqjPiVxI/p1k12z3iNxFSl7hIgarlb58wur5Ee0jpN5Z/ffleY/sgLoyK6fcHa0Ver+0+uz134cHUPbJfwRgav9yBu6qu1a/+syvI9HavMMyatd8VXK3R/VXraV6sgLOvl97LgbrTRW/G3eqNo3W1X6hkQO3WdhncR2GmVeQvLt4i7xU6b1tGpiB+Pflco6CYI2B51YH/PgsdAAbyyZtk3fj7Qe8GgIuDuq9VsxbqM701g0NCexM5tw3vl4L2Udw0GDYUe7Ku153n6vA10/VrRPYteX63eh57q6fPfg55ag72+WnvRi7sGj9ywRnHisW6XL0UixDOOI13wzPUlD/hzvbPogqR2PjfbeZn0dtyeR947gm5v9zig+oZj78xcxQ4PoI+YNG1GVhgV6s68vXxv/+denRTZzRuNVqO+qqKU+IwwfSXJcd3qg8ahayg2cGMDO7/eXZN/spEUMjA+oPsIuHXggJJ0NWXVcqcgMjaQBwBkFMfUTWXVcgBgBSSHSuxFu1ZvP6LUXKoZvuuP+wUODL9y+LeNzdI5c8bGIeCtWx0OXQPBo4txFygI2aqpK1JidKF/oLAbVcMTXa/p4Bem6e+u/GAup6kBU7TQak6sX9My79H73Z0tdhN0xUfWLVmyM/tSZWX1tg/++9eJ4hs5W20X0vXXTpPggF5YlfXptho6Fek0FdOqVjQ0uNx63BGvq7cHMoor606d+ePY7/9b+PiaSzigZBTXNpz8cOnHew6WnPxy0YvfnS1v0Bdfakmb99aXy2PWrdhPpyJHd++vQ7LuGxjsvSpHgspfP31pzffHig99//XKb49rSS75Y1R99oHt679a8VLWrL+K/4ZvwNuAh+Z4Kou2HjAAYLbmr1/+QfKyrYMC7J7ZW+NmzJ49Y16YLzUhoOCNz34OkLyVEWxuzP7r9+zy5lZzYvroUdNGcg35x344QwlG/zxcFj/x4Wkp2K71G8/XUmh+4hGTn8r4f3tnGtfE9fXxk8wkJIRAEhIS1gCKILLIJloVRZGiUnetW6VWbbFutR+1ttr+tWpbWy3WpVVLtWoVbcWlYlVERWtVliooq8oa9iwQQvZM8rwYDClQ6pYIPv4+vBhO7tw55965s5/75Te1K8/UiGpvXBR7vZa/7ct8AjMgfNSksaF1yYmpxfCn9Is1jLnjhw3wdRV/v2lnrYbl1StoyOjW6dmbgYmjWOtvnT2Vll6rYfE8omYsHGluChyOsDH+SyGRuHYuUn+kX0NEVhMGADpJXeHZU0XcsM8Wx8VwhhS+Nu9B1G+mNZRc3ZmVTx2/fAiPakaIqVmFAVqTffBEtufiwytmcYX0D6cf+XvByFGtCVAUQOkc59ffWyK6mGVuT8x+oEVAZx212OnbMWMnb5N62hdkHrkVvnVuIANe0E0O0x67ezxh0bqMqDFT4iYOrzq14buzd6xpwr9/+uzjzenDF60MdccyTm9ffY0/Y+Zb0RHo32f/EpTcXfv931FjpkybEKO98OXJ5Dsq0N2+fCC27zBk9sbRg/2PHzuZX9bCjHozNogzaOisBeMifF3FJ7eleEe+PW1CDPr3j1eySlUYkVSdmni1hkJGyu7c3Hv4stvA2W8tfNezcO3e/RlE1Lw5CrLT8VPHx+B/46NC5nx8Wu7Uxy+0n5HVCgAVeWWjgsI8yVAq1burK6rkSN8g+x2zA0bPKJ2zvNfVo+dYQyYG2xEo5B78gJFcnN/k3ifI2bpWT8MYdoS8auNPOg3VJyCUzzQLVKSdLHGuo3OHbauRAkBD5p4PssO3Tbg2xH1UuXvE1o07x4awzXrgtKbQAYQtcrmWhd5M2MEefqEP+f5Xp/IXH9jn60A1IA7T5r7xW36jQs5psdJEr90/0kFtXSNMOi3c8c0sXweqFpsb6FJ9cfdSzpRvWQ48DsuFpum/5ciZAQPjkCbpzO/Ov+VnK+WETrx+rVAk7ePqCQAEGtudayNTek74YKlOi5GpoC8f8LuwQmEThLukxJrrS48XccPmBAQ40gmcRdMOrTmbHu0/kkUwX1Mwxu88Mv6fps5YrfCIV4qzWt+bvvbMuE8AQHBk1gbugvmi/3GZSS5zdyZ/NO6JkOjdSlR7FwAgYDQm200seTHJSha6wiQhREnNlRs31F+tjE5fHDr0iDDJPnHrvpMevu95kc17uYIUfbdhWTIAOI6+sG75MNuSK7hdi+mJBLICIxUIxAD/+IJeSWDhBTBAUVs1AJQmLlySCADAcfZ0DB/s7Myv+vctqjQYEcVu7V2xLaUYADQCYeiysHZl7p8/8lHmYbzCgICBjlQEwIztoG+uLmlovRnDFEIquw/fybbTkhigBOy+kdVKRLG6G4kLbs/Ys9Lw69d9UwrzcxKWJFwfsPkNjx56nakUVwGAAZE3iirtKSx4EV+xW2jUGRD59XOXS5ynxnLZ9bVMR5aNAfW2oQnMvV2FSob5LNu8KM7XmarSYNoWeTOX3ZvPu5ZXMXKEj4GoLCzI9uz7vukqzVw2m1yGF0ARWV62RO/g57ts1sfDfBlUAgCoNJhB05oi2CljhEJGyOUnfj1YvurqpUgaHP0s9s4/C9gQHCbOH7sofoIb6HSYHq/HrL0uKkpJOi/kMFozWRGmbsbCkUxN25QhZDaL7+dxXqgo1UAMh1ih9w/kOwKopNXXv9+T98m38SxVuhuLAAAkglOot0MPHXIa736MpPt1ErWvrby5DvN429uAyPOy86ncvnwuDYO2udApZESrNFeMlhh1JISYezwhU+D2ziIfCminzQtakLBDxcnnBMV7W6vNRx7EJWlsapHLVRoyvqMQUH50/LgjU1dtzx0KAHrNgDHRrta0IkNV60yPCNlx2tw3Pt19eHuuLaqoZg1c/NrIMbe//X5vrisANJNtI4aMDgtue+JMbqw0Lrt79b20Yd8aRvPkgUERocd/3LrtJqr485YyYFKbP1TElhk00ic5I2FVBj4MPAMiXx8ebNZGsB+waMOgtn0II2ilJX/sOJYtzriUL0H3bs/pFTF30NgJF7/6+feGvKvFWyirTk/wIahrBKm7f/ectiTCzqAn9CaKE/Z+c69J6v+xK52E9LxnKgjo3ELnTApds3P15jzXsgLmGzN9yI2CP3fHjAvenxX3Onr70r2crKvZhXdVydtZLdEhYSFmen9gIWqkvrlaoGTwuTR49MIEseawHHhmuj0wUiPVclllrcSD72L6kRFKVuZl5wMAYs0h09l8Lg230Fz6461MRLGC23fwAp69e5FQtfFFFmLNQeh2vZ3pOkldtY7rySG3NEv1QomCxbO3tTINjQki4yosBx7DliY7HT/9z5i/dk1UaTB1owD/FQC6uN57RnXxHabxtRUumkt/vgMBD9PYNfh1qWfvXvirAnwVA9PLi2dj7o+2zEeNNAZO5vb25DKIKFZcVMVy4HHZenyvwIVYc9rtNs9FODXScqxWS+aDmrJau/AHX+gaZdoxobOLVdqtZboJEkLM2hy5h7wzcXm/f+O2Pnc9Pqv1MbvGYrdAZmW1dhGFuTvF0qzW7pYc+aRQ0sf0udMwCVB66NM1G5PCT1aHa1uan6hC8+kpeKUv3Ofnoi6isEyArec6pVpnJvj6C5EDg9rQ9AJmF+1CONRKZ9m9lk4lKTWYhTf6XNQNe/C5iE4ltZ3rlBqspyB/H1PdL5wX4A+dStJh+u7XFI+lHup216JTSWB8htmi1L5MrFaOHeVlCuep1XNZrRw7SqFA+nJc0JrqFav1JdcrVmt304tktb7SK/0/1wsYdRY+hpmm23Srw+cTOdOusEEhEUqk/1b4WdzotJW6yG/qtuo0ro6BdCzzpJankEWzufEpk2VWXvikyxbYokEhycpre/WJz9Nsge3+p3Si4qx79f0jhjxOF97PvIC6jzB63lh4OTXlis/4pZxnm9wdn/RaZuWFT+RMRDBN/cOc0gYAwJl+Wkxv2mUYaI0FAIDA8LFYPz6RjHHhPLqOcZkGYrQ8zMkwTuaN8wxNp/c2taBUe6eACCPL9ilk0cOVqDg98+DK1euPVFjkPSERwWqK/tj9U0pFqaSkrlorN8A/wfamC1YUajvmPW4xNeLLXZQ0WozFTI0dK2z3U8c6jRZZU5PR7uBg7zN+6YAAt6696rplGkvPJR05lJzwwY8pBVpMT0Qw8YPUo98dqCiV0O//tCXxzJ0WohWFKipOT074wNhlZbfPXPw9o6SuuqSu+j+38kJEwwrwuD4/mA4AeFzJ+3/Jv1eryzm0JfFMBYoaI20698muk3dwy8FjV3BLYlphBYpWZiQnH7uhlRuMlpLMnw8n5ZTUVecdXHDo9J8KzdOn9lqUX1d5KYM4eVNc8pojuUs/7odY5jDpHRY7dMZELlFCJFnpMEne7xuEjrPCfLnUquSf0wyBM2eS753NJMlIabkNOp2bx8ChM+axDCKEpMzcse6aSC2W20S/+U5kmKcOk2TuWFfsPxxJOVpDY4bELn3N3xEHBiRvS6ihMZtkrvO2fuCiU4rzrl5+0KBuqBcL61gOQYEzZ/pRdTSsIGXvsbxqDcshyHXEFH9VdU29rD8ACSGWZx08cSEfAOwiPpozmEFEMEFWktEyb7BdRWUFjRpAQoh6otzolfyRV+f3/k/YJ9LUq46N0JHVSrf1HP66TzFZUiECAMBk0pK0kyVesZ9MjWWAV+TbK+6L4oNZBZWXMvjvfh2XvCY14615YVQAQIKnRo4P6ba4VhXFY/jr44rJkgpRK5y0lUE7/11XnV/e1KkPiyY43zhW4jUJj7Tw3U/Ks38g3zxJ6BM7Brcs2SIM3azNvuYx4p0hoyPr+PKsfamSbLQq5ZrrtF0zBzpjgciXP5696e89sncns/Q/jix3rhPdvZlaYRPqOfjdZYsubdhumdOdUTgunKinWbN5fx07TLDVpv28vZ4ZHmgrIzTd+/ujT5Wjli9ettKueMuOA/t0NHXGrmWr05nxqzYtmzUod9vCA/dKEVRefDyxIOWvoKU7YkLsP0+6pMX0Gpko7Yd1zMgl8as2zfTNXLLyMMZkK5Q1mZ+vAM/Y6e+tJt9Y/+flfDJVlJN6YOd9v8XLVg4OFqsLHyiUNT9czG2SyiTiX0/9QYpftSkmxL7owO4aK7JUfHL71xfcIuI/XBtTdGB3hZWVOONAuVChJ8pzfvm8o1fCwz9d3n8O9+qXMzc73Q8KEt+M9HOeHuU3PcpvSoTzxI9PNDj7u3ryjKxWABDVy/r3CiQhRK2Ng1xe0VJ5v/72XbzLoqeNOPbNIamDKwAIdsfMDGHMjVvaPXGtmJbq6slz4dH1KjEAYDJpS36Nj2+go5Vca+NAY0LGnaIHZer+vQJtaDStjQO18UFuZbOoXjYqKAyPHdQSsaChopKoc+UDgAufbyMpKMl/INJ4BDsS1CqlELMRPcx9Fict1Go4Sct5xERXe0TlFT3b8Xra5QbL9Fnd7hnLx3pMiXBe++HWChT1GBwT4y9eObh/MvrF8nf742Vc48/P8mcgdDv3cTNJ1XLZvcvZ6aqE0+usySg7YFDUm0Ma7zcriHQFzS7gve/6utmG+oUEi6qKNeTG/IQs5VC2n1OTVOYTN3fQ+b35AhkA8OKTYkaGuzjxgiPDVLUNhqrqtDPCqXFDyHS2e9DC2En9AWAwlw0AdMaU9z8c1SSVsXv3c2spaCbRGlJSrIZMDBvhpcWGbT243rGxDneSoir763S1qVf1hU24V9Fr9+NeeShKizWdJKv6zj92Ja/6aFre0bS849eqU7bMcVL/K2YVZ7WiarGxy3gRy+Z7FJ749aHfuE+/v1Z+Ja96y7DiFYs/s/Ch81mkVikJBleOG6udxT2QJZPUi6Wtl4sGpb2HO7W2PB8A+hpQtUrZoubZWv8DTsjghQ/oTXsWZyzUapiW6jfuU1+tWovpNUr2OztTLHZ9wotP+mjBREcrOQCoVUodwmR59RsUdFzg7YE0ijo/7KgfZUJgGF5AIG37NBynsVLZrVkCZQ9vXd3XmijouHCBsVhTfa2jW1smAd2e52tLaRcyw46uExUf3/yOkBXB0ZfcrOQMBwAAGzu2I50Gao2RzAwAaP0jXuwjr/QNIgBPGrPNKwDQNwuBymwXkLwqx5Qa1TUKC2e1EsfY+41p67KZWw7otWojxdswZrbHicyHRSq++SFNz0VaTE8mCISVEnIQAQC06loAvoEgKM+VuAx1ZpWjAGBFoRoIgrJypfdr/RrLLhcSdAMoVBSra1bQbUyqsrGqy3woH/sMzljuCkGtUhq7x3TZksKJrVdOFvSfvLNmx7wjRa07ojz7rECMAYC2rhx1ceYGB3A8rW9dLyFSrBFUXlUnC+fbWes7oQo7OAT07RMQ+cE3K9ZvW7F+2zuL4gJsOkndILg4s8llt2sNVhQqmSrKvNuWkqdK/SjdfvHkjbvem7uQjTwEAKa3q7owL18gI1NFN9LSEXprLp+OyzV6pa6trKqTefZ1s9bL5I/xEU59ZVbB3dvCykL8Tyxo6Mhq7RXqhrNamZrKe2IXr0HepkdGtUqpkYlK7j/QYnorCrUhJaWsTwCLR+62Q45IsQcA1I5q08+pqCBXhjqQWhrEypCRo/x7hbqVVmuMkfr1Y7G59NzK5lo1TV90pVxOZ/s58d30eoECANRV+S0s37DBAcYeVFfls3sHsnhPP6tkj7lCeGrVpe09LPzDnsMDAPfwafSCoyVeg+YMiopffXnJVz9G/LIRABh0wcHtX9vTWsRy20lL/HUa25DJgbvmv78/fhD+RCS6LwOg7etwuVakFDUDgKF3bGifr3K+WHWXzwWAKquglcvHA4BS2DrDA5fYBAAKIj12zqT5X2wmZzs1aer9Rm9kA/xVL2qSytCgpb3SVqd/13BKU4/oXAHANXiGV+q645sarznJtS5vhQMgkiY9gJLs3alX1vK2F3eNDZ0/WHMOnj33tbZhptW21BWcSE2+UVl4SdFSvX9njsvIJaOj425/m3T4myJO/YGQ/x0cTKpph2LFFMKs3z79g9jLnsPLy/T5esNYP2q3m6KvsfRcavKNysILipa7u9XnA6dvGh0dV3X42PY1y71UOYZZG/u50pu8h/PzLhoj7e9kK46aWJL8y+G7P7PED/uu3hPkQhFFTbx5LHF/Kc9QdJ0ze4+rJ9Uwduyt4z/sz7axKi/kTPniWVC1FqJGWlLtWK214radkkRjsSmYzopBQogGhUSkQrgcm+JzCSfrB0wOd6RSUSNglYhgVeWtZySOEx9/7VNVXokv4+sy7Oj4snET+OrtfhWpEA7LzlghicZi2NFRdRNuNzpJorEAoF2d+OZqBGV4zaZemVo6egX/RY3s2DJcjg0mk5put90qJDBoFI14AbOSaJ+FGtkxLicOE6fngklXtou0CwveX8YdAB714FMMFkuzWi2pdqzWroWQlEVnd+0XRa9/08+ajMKzZViROgO+PpfCT6H/ZLU+i8zqvMVYrRaWpVmt3VnWbJ4fSoPnkdH4RDX06F2qRzv/wvWPUfcyNeVjp35bOQfPjkOICo3uZQofF57P2kPj0mI9b0Kkx1TrqLOhkgLc2z9u7qHSYnqqFfrShPMsolNJ7lwbHpP630W7k/AebIf+eAmkxfTtCcmv9EqvZBm9DI9PXumVepb+D2DhoKjqIM6nAAAAAElFTkSuQmCC)"
      ],
      "metadata": {
        "id": "G3mPieyZa9wg"
      }
    },
    {
      "cell_type": "code",
      "source": [
        "print(\"division normal 45/5:\",49/5)\n",
        "print(\"division entera 48//4:\",47//4)"
      ],
      "metadata": {
        "colab": {
          "base_uri": "https://localhost:8080/"
        },
        "id": "6eYbJomyZ0ke",
        "outputId": "a27cfbc8-091f-430d-e914-b736b4598712"
      },
      "execution_count": null,
      "outputs": [
        {
          "output_type": "stream",
          "name": "stdout",
          "text": [
            "division normal 45/5: 9.8\n",
            "division entera 48//4: 11\n"
          ]
        }
      ]
    },
    {
      "cell_type": "code",
      "source": [
        "#prioridad de operadores (),**,/,+-\n",
        "\n",
        "print(2+1*7)\n",
        "print((2+1)*7)"
      ],
      "metadata": {
        "colab": {
          "base_uri": "https://localhost:8080/"
        },
        "id": "1sYzvPMAb4vl",
        "outputId": "47559d42-648c-4247-cab4-697dc0c58d10"
      },
      "execution_count": null,
      "outputs": [
        {
          "output_type": "stream",
          "name": "stdout",
          "text": [
            "9\n",
            "21\n"
          ]
        }
      ]
    },
    {
      "cell_type": "code",
      "source": [
        "# elabore el codigo que calcule el area de un cuadrado\n",
        "\n",
        "lado=2\n",
        "\n",
        "area=lado*lado  #opcion1\n",
        "area=lado**2   #opcion2\n",
        "\n",
        "print(f\"el resultado del area es{area}\")\n",
        "print(area)"
      ],
      "metadata": {
        "colab": {
          "base_uri": "https://localhost:8080/"
        },
        "id": "tXDvG8necv1-",
        "outputId": "9bbb158d-b5a3-4163-b87c-8d7802c3e3b6"
      },
      "execution_count": null,
      "outputs": [
        {
          "output_type": "stream",
          "name": "stdout",
          "text": [
            "el resultado del area es4\n",
            "4\n"
          ]
        }
      ]
    },
    {
      "cell_type": "code",
      "source": [
        "# elabore el area de una casa \n",
        "lado=7\n",
        "altura=5\n",
        "\n",
        "area_cuadrado=lado**2\n",
        "area_triangulo=lado*altura/2\n",
        "\n",
        "area_total=area_cuadrado+ area_triangulo\n",
        "print(area_total)"
      ],
      "metadata": {
        "colab": {
          "base_uri": "https://localhost:8080/"
        },
        "id": "6Fz4XdjAeSuW",
        "outputId": "5b50c20f-23a4-4e26-8386-5d88c8289aa0"
      },
      "execution_count": null,
      "outputs": [
        {
          "output_type": "stream",
          "name": "stdout",
          "text": [
            "66.5\n"
          ]
        }
      ]
    }
  ]
}